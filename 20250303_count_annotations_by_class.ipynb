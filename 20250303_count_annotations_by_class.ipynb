{
 "cells": [
  {
   "cell_type": "code",
   "execution_count": null,
   "id": "256d5432-e7db-44ef-946c-7edbe0adb006",
   "metadata": {},
   "outputs": [],
   "source": [
    "import os\n",
    "import xml.etree.ElementTree as ET\n",
    "from collections import defaultdict\n",
    "\n",
    "# Define the paths to the annotation directories\n",
    "train_dir = \"datasets/all/train/annotations_transformed\"\n",
    "val_dir = \"datasets/all/val/annotations_transfromed\"\n",
    "\n",
    "# Function to count annotations per class in a directory\n",
    "def count_annotations(directory):\n",
    "    class_counts = defaultdict(int)\n",
    "\n",
    "    # Iterate through XML files in the directory\n",
    "    for filename in os.listdir(directory):\n",
    "        if filename.endswith(\".xml\"):\n",
    "            file_path = os.path.join(directory, filename)\n",
    "            tree = ET.parse(file_path)\n",
    "            root = tree.getroot()\n",
    "\n",
    "            # Iterate over all objects in the XML file\n",
    "            for obj in root.findall(\"object\"):\n",
    "                class_name = obj.find(\"name\").text\n",
    "                class_counts[class_name] += 1\n",
    "\n",
    "    return class_counts\n",
    "\n",
    "# Count annotations in the training and validation datasets\n",
    "train_counts = count_annotations(train_dir)\n",
    "val_counts = count_annotations(val_dir)\n",
    "\n",
    "# Display the results\n",
    "print(\"Train dataset class counts:\")\n",
    "for class_name, count in train_counts.items():\n",
    "    print(f\"{class_name}: {count}\")\n",
    "\n",
    "print(\"\\nValidation dataset class counts:\")\n",
    "for class_name, count in val_counts.items():\n",
    "    print(f\"{class_name}: {count}\")\n"
   ]
  }
 ],
 "metadata": {
  "kernelspec": {
   "display_name": "Python 3 (ipykernel)",
   "language": "python",
   "name": "python3"
  },
  "language_info": {
   "codemirror_mode": {
    "name": "ipython",
    "version": 3
   },
   "file_extension": ".py",
   "mimetype": "text/x-python",
   "name": "python",
   "nbconvert_exporter": "python",
   "pygments_lexer": "ipython3",
   "version": "3.11.4"
  }
 },
 "nbformat": 4,
 "nbformat_minor": 5
}
