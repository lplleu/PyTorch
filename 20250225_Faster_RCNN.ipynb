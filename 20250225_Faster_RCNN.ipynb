{
  "nbformat": 4,
  "nbformat_minor": 0,
  "metadata": {
    "colab": {
      "provenance": []
    },
    "kernelspec": {
      "name": "python3",
      "display_name": "Python 3"
    },
    "language_info": {
      "name": "python"
    }
  },
  "cells": [
    {
      "cell_type": "code",
      "source": [
        "# prompt: install pytorch\n",
        "\n",
        "!pip install torch torchvision torchaudio\n"
      ],
      "metadata": {
        "id": "i2saWv7E0z5C"
      },
      "execution_count": null,
      "outputs": []
    },
    {
      "cell_type": "code",
      "source": [
        "from google.colab import drive\n",
        "drive.mount('/content/drive')\n",
        "import tensorflow as tf\n",
        "\n",
        "device_name = tf.test.gpu_device_name()\n",
        "if device_name != '/device:GPU:0':\n",
        "  raise SystemError('GPU device not found')\n",
        "print('Found GPU at: {}'.format(device_name))\n"
      ],
      "metadata": {
        "id": "Ly9Lk2hp0e7n"
      },
      "execution_count": null,
      "outputs": []
    },
    {
      "cell_type": "code",
      "source": [
        "import torch"
      ],
      "metadata": {
        "id": "Zh7eiZT80FTM"
      },
      "execution_count": 5,
      "outputs": []
    },
    {
      "cell_type": "code",
      "source": [
        "from torch.utils.data import DataLoader, Dataset"
      ],
      "metadata": {
        "id": "RIhtRYph45M-"
      },
      "execution_count": 6,
      "outputs": []
    },
    {
      "cell_type": "code",
      "source": [
        "from torchvision.models.detection import fasterrcnn_mobilenet_v3_large_320_fpn"
      ],
      "metadata": {
        "id": "KWWbMBs-45H9"
      },
      "execution_count": 7,
      "outputs": []
    },
    {
      "cell_type": "code",
      "source": [
        "from torchvision.ops import box_iou"
      ],
      "metadata": {
        "id": "QdIfarS145Cz"
      },
      "execution_count": 8,
      "outputs": []
    },
    {
      "cell_type": "code",
      "source": [
        "import os"
      ],
      "metadata": {
        "id": "An1Z2t6N4492"
      },
      "execution_count": 9,
      "outputs": []
    },
    {
      "cell_type": "code",
      "source": [
        "from PIL import Image"
      ],
      "metadata": {
        "id": "6EnD0jOy444G"
      },
      "execution_count": 10,
      "outputs": []
    },
    {
      "cell_type": "code",
      "source": [
        "import xml.etree.ElementTree as ET"
      ],
      "metadata": {
        "id": "dNlsMqF344xF"
      },
      "execution_count": 11,
      "outputs": []
    },
    {
      "cell_type": "code",
      "source": [
        "from sklearn.metrics import confusion_matrix, ConfusionMatrixDisplay"
      ],
      "metadata": {
        "id": "Zxi-WJUj44oY"
      },
      "execution_count": 12,
      "outputs": []
    },
    {
      "cell_type": "code",
      "source": [
        "import matplotlib.pyplot as plt"
      ],
      "metadata": {
        "id": "qwAge3JX5E24"
      },
      "execution_count": 13,
      "outputs": []
    },
    {
      "cell_type": "code",
      "source": [
        "import numpy as np"
      ],
      "metadata": {
        "id": "9khcgAQXr88d"
      },
      "execution_count": 47,
      "outputs": []
    },
    {
      "cell_type": "code",
      "source": [
        "# Custom Dataset\n",
        "class CustomDataset(Dataset):\n",
        "    def __init__(self, image_dir, target_dir):\n",
        "        self.image_dir = image_dir\n",
        "        self.target_dir = target_dir\n",
        "        self.image_names = [f for f in os.listdir(image_dir) if f.endswith('.jpg')]\n",
        "\n",
        "    def get_label_id(self, label):\n",
        "        label_map = {\n",
        "            'mokolwane': 0,\n",
        "            'mopororo': 1,\n",
        "            'motswere': 2,\n",
        "        }\n",
        "        return label_map.get(label, 0)  # 0 for unknown labels\n",
        "\n",
        "    def __len__(self):\n",
        "        return len(self.image_names)\n",
        "\n",
        "    def __getitem__(self, idx):\n",
        "        img_name = os.path.join(self.image_dir, self.image_names[idx])\n",
        "        image = Image.open(img_name).convert(\"RGB\")\n",
        "\n",
        "        target_name = os.path.join(self.target_dir, self.image_names[idx].replace('.jpg', '.xml'))\n",
        "        target = self.load_annotation(target_name)\n",
        "\n",
        "        # No transformation is applied as the dataset is already preprocessed.\n",
        "        image = torch.from_numpy(np.array(image) / 255.0).permute(2, 0, 1).float()  # Normalize manually if needed.\n",
        "\n",
        "        return image, target\n",
        "\n",
        "    def load_annotation(self, target_file):\n",
        "        tree = ET.parse(target_file)\n",
        "        root = tree.getroot()\n",
        "\n",
        "        boxes = []\n",
        "        labels = []\n",
        "\n",
        "        for obj in root.findall('object'):\n",
        "            bndbox = obj.find('bndbox')\n",
        "            xmin = float(bndbox.find('xmin').text)\n",
        "            ymin = float(bndbox.find('ymin').text)\n",
        "            xmax = float(bndbox.find('xmax').text)\n",
        "            ymax = float(bndbox.find('ymax').text)\n",
        "\n",
        "            # Validate bounding box dimensions\n",
        "            if xmax > xmin and ymax > ymin:\n",
        "                boxes.append([xmin, ymin, xmax, ymax])\n",
        "                label = obj.find('name').text\n",
        "                labels.append(self.get_label_id(label))\n",
        "            else:\n",
        "                print(f\"Invalid bounding box skipped: {[xmin, ymin, xmax, ymax]} in {target_file}\")\n",
        "\n",
        "        boxes = torch.tensor(boxes, dtype=torch.float32) if boxes else torch.zeros((0, 4), dtype=torch.float32)\n",
        "        labels = torch.tensor(labels, dtype=torch.int64) if labels else torch.zeros((0,), dtype=torch.int64)\n",
        "\n",
        "        target = {\n",
        "            'boxes': boxes,\n",
        "            'labels': labels,\n",
        "            'image_id': torch.tensor([0]),\n",
        "            'area': (boxes[:, 2] - boxes[:, 0]) * (boxes[:, 3] - boxes[:, 1]),\n",
        "            'iscrowd': torch.zeros(len(labels), dtype=torch.int64)\n",
        "        }\n",
        "\n",
        "        return target"
      ],
      "metadata": {
        "id": "1ommu-0hz_3B"
      },
      "execution_count": 14,
      "outputs": []
    },
    {
      "cell_type": "code",
      "source": [
        "# prompt: get working directory\n",
        "\n",
        "import os\n",
        "print(os.getcwd())\n"
      ],
      "metadata": {
        "id": "QwkViqij8FLU"
      },
      "execution_count": null,
      "outputs": []
    },
    {
      "cell_type": "markdown",
      "source": [
        "# life"
      ],
      "metadata": {
        "id": "XYo9R8CZECLL"
      }
    },
    {
      "cell_type": "code",
      "source": [
        "import os\n",
        "import xml.etree.ElementTree as ET\n",
        "from PIL import Image\n",
        "\n",
        "# Paths to the directories\n",
        "annotations_dir = \"/content/drive/MyDrive/all/val/annotations_transformed2\"\n",
        "images_dir = \"/content/drive/MyDrive/all/val/images_transformed2\"\n",
        "\n",
        "# Get lists of files\n",
        "annotation_files = [f for f in os.listdir(annotations_dir) if f.endswith('.xml')]\n",
        "image_files = [f for f in os.listdir(images_dir) if f.endswith('.jpg')]\n",
        "\n",
        "# Extract image names without extensions\n",
        "image_names = {os.path.splitext(f)[0]: f for f in image_files}\n",
        "\n",
        "# Minimum bounding box size (width, height)\n",
        "MIN_BOX_SIZE = 10\n",
        "\n",
        "# Validate and clean each annotation file\n",
        "for annotation_file in annotation_files:\n",
        "    annotation_path = os.path.join(annotations_dir, annotation_file)\n",
        "\n",
        "    # Check if corresponding image exists\n",
        "    image_name = os.path.splitext(annotation_file)[0]\n",
        "    if image_name not in image_names:\n",
        "        continue\n",
        "\n",
        "    image_path = os.path.join(images_dir, image_names[image_name])\n",
        "\n",
        "    # Process the XML file\n",
        "    try:\n",
        "        tree = ET.parse(annotation_path)\n",
        "        root = tree.getroot()\n",
        "\n",
        "        # Load the corresponding image to get dimensions\n",
        "        with Image.open(image_path) as img:\n",
        "            img_width, img_height = img.size\n",
        "\n",
        "        # Remove bounding boxes that are too small\n",
        "        objects_to_remove = []\n",
        "        for obj in root.findall(\"object\"):\n",
        "            bndbox = obj.find(\"bndbox\")\n",
        "            if bndbox is not None:\n",
        "                xmin = int(bndbox.find(\"xmin\").text)\n",
        "                ymin = int(bndbox.find(\"ymin\").text)\n",
        "                xmax = int(bndbox.find(\"xmax\").text)\n",
        "                ymax = int(bndbox.find(\"ymax\").text)\n",
        "\n",
        "                # Check if box is too small\n",
        "                if (xmax - xmin) < MIN_BOX_SIZE or (ymax - ymin) < MIN_BOX_SIZE:\n",
        "                    objects_to_remove.append(obj)\n",
        "\n",
        "        # Remove identified objects\n",
        "        for obj in objects_to_remove:\n",
        "            root.remove(obj)\n",
        "\n",
        "        # Save the cleaned XML file\n",
        "        tree.write(annotation_path)\n",
        "\n",
        "    except ET.ParseError:\n",
        "        print(f\"Error parsing {annotation_file}\")\n",
        "\n",
        "print(\"Small bounding boxes removed from annotations.\")"
      ],
      "metadata": {
        "colab": {
          "base_uri": "https://localhost:8080/"
        },
        "id": "nO1h8ud1EBow",
        "outputId": "923bb772-3650-4707-80af-d5e885cd5a88"
      },
      "execution_count": 60,
      "outputs": [
        {
          "output_type": "stream",
          "name": "stdout",
          "text": [
            "Small bounding boxes removed from annotations.\n"
          ]
        }
      ]
    },
    {
      "cell_type": "code",
      "source": [
        "import os\n",
        "import xml.etree.ElementTree as ET\n",
        "\n",
        "def count_annotations(directory):\n",
        "  \"\"\"Counts the number of annotations (objects) in XML files within a directory.\n",
        "\n",
        "  Args:\n",
        "    directory: The path to the directory containing the XML annotation files.\n",
        "\n",
        "  Returns:\n",
        "    The total number of annotations found.\n",
        "  \"\"\"\n",
        "  annotation_count = 0\n",
        "  for filename in os.listdir(directory):\n",
        "    if filename.endswith(\".xml\"):\n",
        "      filepath = os.path.join(directory, filename)\n",
        "      try:\n",
        "        tree = ET.parse(filepath)\n",
        "        root = tree.getroot()\n",
        "        annotation_count += len(root.findall(\"object\"))\n",
        "      except ET.ParseError:\n",
        "        print(f\"Error parsing {filename}\")\n",
        "  return annotation_count\n",
        "\n",
        "# Paths to annotation directories\n",
        "train_annotations_dir = \"/content/drive/MyDrive/all/train/annotations_transformed2\"\n",
        "val_annotations_dir = \"/content/drive/MyDrive/all/val/annotations_transformed2\"\n",
        "\n",
        "# Count annotations in each directory\n",
        "train_annotation_count = count_annotations(train_annotations_dir)\n",
        "val_annotation_count = count_annotations(val_annotations_dir)\n",
        "\n",
        "print(f\"Number of annotations in train set: {train_annotation_count}\")\n",
        "print(f\"Number of annotations in validation set: {val_annotation_count}\")\n"
      ],
      "metadata": {
        "colab": {
          "base_uri": "https://localhost:8080/"
        },
        "id": "_WLa41hZEgEr",
        "outputId": "ae99d308-3074-4beb-fba9-88d788ee0614"
      },
      "execution_count": 61,
      "outputs": [
        {
          "output_type": "stream",
          "name": "stdout",
          "text": [
            "Number of annotations in train set: 8841\n",
            "Number of annotations in validation set: 1207\n"
          ]
        }
      ]
    },
    {
      "cell_type": "code",
      "source": [
        "import os\n",
        "import xml.etree.ElementTree as ET\n",
        "\n",
        "def check_empty_annotations(directory):\n",
        "    empty_annotation_files = []\n",
        "    for filename in os.listdir(directory):\n",
        "        if filename.endswith(\".xml\"):\n",
        "            filepath = os.path.join(directory, filename)\n",
        "            try:\n",
        "                tree = ET.parse(filepath)\n",
        "                root = tree.getroot()\n",
        "                if len(root.findall(\"object\")) == 0:\n",
        "                    empty_annotation_files.append(filename)\n",
        "            except ET.ParseError:\n",
        "                print(f\"Error parsing {filename}\")\n",
        "    return empty_annotation_files\n",
        "\n",
        "train_dir = \"/content/drive/MyDrive/all/train/annotations_transformed2\"\n",
        "val_dir = \"/content/drive/MyDrive/all/val/annotations_transformed2\"\n",
        "\n",
        "empty_train_annotations = check_empty_annotations(train_dir)\n",
        "empty_val_annotations = check_empty_annotations(val_dir)\n",
        "\n",
        "print(\"Empty annotation files in train set:\", empty_train_annotations)\n",
        "print(\"Empty annotation files in validation set:\", empty_val_annotations)\n"
      ],
      "metadata": {
        "colab": {
          "base_uri": "https://localhost:8080/"
        },
        "id": "OxllMDkyE8O2",
        "outputId": "512152aa-7069-4c59-d4fd-76b65142a4fa"
      },
      "execution_count": 62,
      "outputs": [
        {
          "output_type": "stream",
          "name": "stdout",
          "text": [
            "Empty annotation files in train set: ['CC_0033.xml', 'CC_0070.xml', 'CC_0646.xml', 'CC_0788.xml']\n",
            "Empty annotation files in validation set: ['CC_0643.xml']\n"
          ]
        }
      ]
    },
    {
      "cell_type": "code",
      "source": [
        "import os\n",
        "import xml.etree.ElementTree as ET\n",
        "\n",
        "def delete_empty_xml(directory):\n",
        "    for filename in os.listdir(directory):\n",
        "        if filename.endswith(\".xml\"):\n",
        "            filepath = os.path.join(directory, filename)\n",
        "            try:\n",
        "                tree = ET.parse(filepath)\n",
        "                root = tree.getroot()\n",
        "                if len(root.findall(\"object\")) == 0:\n",
        "                    os.remove(filepath)\n",
        "                    print(f\"Deleted empty XML file: {filepath}\")\n",
        "            except ET.ParseError:\n",
        "                print(f\"Error parsing {filename}\")\n",
        "\n",
        "train_dir = \"/content/drive/MyDrive/all/train/annotations_transformed2\"\n",
        "val_dir = \"/content/drive/MyDrive/all/val/annotations_transformed2\"\n",
        "\n",
        "delete_empty_xml(train_dir)\n",
        "delete_empty_xml(val_dir)\n"
      ],
      "metadata": {
        "id": "V4KGtYl4FVE8"
      },
      "execution_count": null,
      "outputs": []
    },
    {
      "cell_type": "code",
      "source": [
        "import os\n",
        "\n",
        "xml_dir = \"/content/drive/MyDrive/all/val/annotations_transformed2\"\n",
        "jpg_dir = \"/content/drive/MyDrive/all/val/images_transformed2\"\n",
        "\n",
        "xml_files = [f for f in os.listdir(xml_dir) if f.endswith(\".xml\")]\n",
        "jpg_files = [f for f in os.listdir(jpg_dir) if f.endswith(\".jpg\")]\n",
        "\n",
        "xml_names = set(os.path.splitext(f)[0] for f in xml_files)\n",
        "\n",
        "for jpg_file in jpg_files:\n",
        "    jpg_name = os.path.splitext(jpg_file)[0]\n",
        "    if jpg_name not in xml_names:\n",
        "        jpg_path = os.path.join(jpg_dir, jpg_file)\n",
        "        os.remove(jpg_path)\n",
        "        print(f\"Deleted: {jpg_path}\")\n"
      ],
      "metadata": {
        "id": "ykAoBiZuFg1Y"
      },
      "execution_count": null,
      "outputs": []
    },
    {
      "cell_type": "code",
      "source": [],
      "metadata": {
        "id": "IRbNwKSYF3am"
      },
      "execution_count": null,
      "outputs": []
    },
    {
      "cell_type": "code",
      "source": [
        "# Load datasets\n",
        "train_dataset = CustomDataset(\n",
        "    image_dir=\"/content/drive/MyDrive/all/train/images_transformed2\",  # point to the transformed image directory\n",
        "    target_dir=\"/content/drive/MyDrive/all/train/annotations_transformed2\"  # point to the transformed annotations directory\n",
        ")\n",
        "\n",
        "val_dataset = CustomDataset(\n",
        "    image_dir=\"/content/drive/MyDrive/all/val/images_transformed2\",  # point to the transformed image directory\n",
        "    target_dir=\"/content/drive/MyDrive/all/val/annotations_transformed2\"  # point to the transformed annotations directory\n",
        ")"
      ],
      "metadata": {
        "id": "fvplZL9O0LHr"
      },
      "execution_count": 78,
      "outputs": []
    },
    {
      "cell_type": "code",
      "source": [
        "import os\n",
        "file_count = len([f for f in os.listdir('/content/drive/MyDrive/all/train/annotations_transformed2') if os.path.isfile(os.path.join('/content/drive/MyDrive/all/train/annotations_transformed2', f))])\n",
        "print(f\"Number of files in train/annotations_transformed2: {file_count}\")\n",
        "file_count = len([f for f in os.listdir('/content/drive/MyDrive/all/train/images_transformed2') if os.path.isfile(os.path.join('/content/drive/MyDrive/all/train/images_transformed', f))])\n",
        "print(f\"Number of files in train/images_transformed: {file_count}\")\n",
        "file_count = len([f for f in os.listdir('/content/drive/MyDrive/all/val/annotations_transformed2') if os.path.isfile(os.path.join('/content/drive/MyDrive/all/val/annotations_transformed2', f))])\n",
        "print(f\"Number of files in val/annotations_transformed2: {file_count}\")\n",
        "file_count = len([f for f in os.listdir('/content/drive/MyDrive/all/val/images_transformed2') if os.path.isfile(os.path.join('/content/drive/MyDrive/all/val/images_transformed', f))])\n",
        "print(f\"Number of files in val/images_transformed: {file_count}\")\n"
      ],
      "metadata": {
        "colab": {
          "base_uri": "https://localhost:8080/"
        },
        "id": "4gxS0hmVkOt0",
        "outputId": "bdafcf97-e83f-4146-ac16-97470ff424d6"
      },
      "execution_count": 69,
      "outputs": [
        {
          "output_type": "stream",
          "name": "stdout",
          "text": [
            "Number of files in train/annotations_transformed2: 975\n",
            "Number of files in train/images_transformed: 975\n",
            "Number of files in val/annotations_transformed2: 188\n",
            "Number of files in val/images_transformed: 188\n"
          ]
        }
      ]
    },
    {
      "cell_type": "code",
      "source": [
        "import os\n",
        "import shutil\n",
        "\n",
        "# Define paths\n",
        "xml_dir = \"/content/drive/MyDrive/all/train/annotations_transformed2\"\n",
        "image_dir = \"/content/drive/MyDrive/all/train/images_transformed\"\n",
        "target_dir = \"/content/drive/MyDrive/all/train/images_transformed2\"\n",
        "\n",
        "# Ensure target directory exists\n",
        "os.makedirs(target_dir, exist_ok=True)\n",
        "\n",
        "# Get list of XML files\n",
        "xml_files = [f.replace(\".xml\", \".jpg\") for f in os.listdir(xml_dir) if f.endswith(\".xml\")]\n",
        "\n",
        "# Copy corresponding images\n",
        "for img_file in xml_files:\n",
        "    img_path = os.path.join(image_dir, img_file)\n",
        "    if os.path.exists(img_path):\n",
        "        shutil.copy(img_path, target_dir)\n",
        "        print(f\"Copied: {img_file}\")\n",
        "    else:\n",
        "        print(f\"Missing: {img_file}\")\n",
        "\n",
        "print(\"Copying complete.\")"
      ],
      "metadata": {
        "id": "n5zbuqIGs188"
      },
      "execution_count": null,
      "outputs": []
    },
    {
      "cell_type": "code",
      "source": [
        "import os\n",
        "\n",
        "print(\"Train Dataset Image Directory:\", os.listdir(\"/content/drive/MyDrive/all/train/annotations_transformed2\"))\n",
        "print(\"Val Dataset Image Directory:\", os.listdir(\"/content/drive/MyDrive/all/val/annotations_transformed2\"))\n"
      ],
      "metadata": {
        "id": "2ZN91cNFnCWo"
      },
      "execution_count": null,
      "outputs": []
    },
    {
      "cell_type": "code",
      "source": [
        "# Check if datasets are empty\n",
        "if len(train_dataset) == 0:\n",
        "    print(\"Warning: train_dataset is empty.\")\n",
        "if len(val_dataset) == 0:\n",
        "    print(\"Warning: val_dataset is empty.\")"
      ],
      "metadata": {
        "id": "UzVoBhZEj5B7"
      },
      "execution_count": 71,
      "outputs": []
    },
    {
      "cell_type": "code",
      "source": [
        "# DataLoaders\n",
        "train_loader = DataLoader(train_dataset, batch_size=4, shuffle=True, collate_fn=lambda x: tuple(zip(*x)))\n",
        "val_loader = DataLoader(val_dataset, batch_size=4, shuffle=False, collate_fn=lambda x: tuple(zip(*x)))"
      ],
      "metadata": {
        "id": "Eflsjv170NaD"
      },
      "execution_count": 72,
      "outputs": []
    },
    {
      "cell_type": "code",
      "source": [
        "# Load pre-trained SSD model\n",
        "model = fasterrcnn_mobilenet_v3_large_320_fpn(pretrained=True)\n",
        "model.eval()  # Set to evaluation mode initially"
      ],
      "metadata": {
        "id": "f-SKHyyC0PUl"
      },
      "execution_count": null,
      "outputs": []
    },
    {
      "cell_type": "code",
      "source": [
        "# Move model to device\n",
        "device = torch.device(\"cuda\" if torch.cuda.is_available() else \"cpu\")\n",
        "model.to(device)"
      ],
      "metadata": {
        "id": "58OWgBaK0QwL"
      },
      "execution_count": null,
      "outputs": []
    },
    {
      "cell_type": "code",
      "source": [
        "# Optimizer\n",
        "params = [p for p in model.parameters() if p.requires_grad]\n",
        "optimizer = torch.optim.Adam(params, lr=0.0001)"
      ],
      "metadata": {
        "id": "g3ciqYPK0Rup"
      },
      "execution_count": 36,
      "outputs": []
    },
    {
      "cell_type": "code",
      "source": [
        "# Training loop\n",
        "def train(model, data_loader, optimizer, num_epochs=5, model_path='/content/drive/MyDrive/all/results/frcnn_model_20250222.pth'):\n",
        "    for epoch in range(num_epochs):\n",
        "        model.train()  # Ensure the model is in training mode\n",
        "        total_loss = 0\n",
        "        print(f\"Epoch {epoch+1}/{num_epochs} started...\")\n",
        "\n",
        "        for i, (images, targets) in enumerate(data_loader):\n",
        "            images = [image.to(device) for image in images]  # .to(device) on the tensor\n",
        "            targets = [{k: v.to(device) for k, v in t.items()} for t in targets]\n",
        "\n",
        "            # Forward pass\n",
        "            loss_dict = model(images, targets)\n",
        "            losses = sum(loss for loss in loss_dict.values())\n",
        "            total_loss += losses.item()\n",
        "\n",
        "            # Backward pass\n",
        "            optimizer.zero_grad()\n",
        "            losses.backward()\n",
        "            optimizer.step()\n",
        "\n",
        "            if i % 10 == 0:  # Provide feedback every 10 iterations\n",
        "                print(f\"  Iteration {i}/{len(data_loader)}, Loss: {losses.item():.4f}\")\n",
        "\n",
        "        avg_loss = total_loss / len(data_loader)\n",
        "        print(f\"Epoch {epoch+1}/{num_epochs} finished, Average Loss: {avg_loss:.4f}\")\n",
        "\n",
        "        # Save model checkpoint\n",
        "        torch.save(model.state_dict(), model_path)\n",
        "\n",
        "    print(f\"Model saved to {model_path}\")"
      ],
      "metadata": {
        "id": "tzPzAGA90VI_"
      },
      "execution_count": 74,
      "outputs": []
    },
    {
      "cell_type": "code",
      "source": [
        "# Confusion matrix and evaluation\n",
        "def compute_metrics_with_confusion_matrix(true_boxes, true_labels, pred_boxes, pred_labels, pred_scores, num_classes, iou_threshold=0.5, score_threshold=0.5):\n",
        "    tp, fp, fn = 0, 0, 0\n",
        "    all_true_labels, all_pred_labels = [], []\n",
        "\n",
        "    for true_b, true_l, pred_b, pred_l, pred_s in zip(true_boxes, true_labels, pred_boxes, pred_labels, pred_scores):\n",
        "        pred_b = pred_b[pred_s >= score_threshold]\n",
        "        pred_l = pred_l[pred_s >= score_threshold]\n",
        "\n",
        "        if len(pred_b) == 0:\n",
        "            fn += len(true_l)\n",
        "            all_true_labels.extend(true_l.tolist())\n",
        "            all_pred_labels.extend([num_classes] * len(true_l))\n",
        "            continue\n",
        "\n",
        "        if len(true_b) == 0:\n",
        "            fp += len(pred_l)\n",
        "            all_pred_labels.extend(pred_l.tolist())\n",
        "            all_true_labels.extend([num_classes] * len(pred_l))\n",
        "            continue\n",
        "\n",
        "        ious = box_iou(true_b, pred_b)\n",
        "        matched = ious >= iou_threshold\n",
        "\n",
        "        tp += matched.sum().item()\n",
        "        fp += (len(pred_b) - matched.sum().item())\n",
        "        fn += (len(true_b) - matched.sum().item())\n",
        "\n",
        "        for t_idx, true_label in enumerate(true_l):\n",
        "            if matched[t_idx].any():\n",
        "                pred_idx = matched[t_idx].nonzero(as_tuple=True)[0][0]\n",
        "                all_true_labels.append(true_label.item())\n",
        "                all_pred_labels.append(pred_l[pred_idx].item())\n",
        "            else:\n",
        "                all_true_labels.append(true_label.item())\n",
        "                all_pred_labels.append(num_classes)\n",
        "\n",
        "    precision = tp / (tp + fp + 1e-6)\n",
        "    recall = tp / (tp + fn + 1e-6)\n",
        "    f1 = 2 * precision * recall / (precision + recall + 1e-6)\n",
        "\n",
        "    cm = confusion_matrix(all_true_labels, all_pred_labels, labels=list(range(num_classes)) + [num_classes])\n",
        "    return precision, recall, f1, cm"
      ],
      "metadata": {
        "id": "hTybnHXS0WBU"
      },
      "execution_count": 75,
      "outputs": []
    },
    {
      "cell_type": "code",
      "execution_count": 76,
      "metadata": {
        "id": "uK1RLnCnz-EF"
      },
      "outputs": [],
      "source": [
        "def evaluate_with_confusion_matrix(model, data_loader, num_classes, iou_threshold=0.5, score_threshold=0.5):\n",
        "    model.eval()\n",
        "    all_true_boxes, all_true_labels = [], []\n",
        "    all_pred_boxes, all_pred_labels, all_pred_scores = [], [], []\n",
        "\n",
        "    with torch.no_grad():\n",
        "        for i, (images, targets) in enumerate(data_loader):\n",
        "            images = [image.to(device) for image in images]  # .to(device) on the tensor\n",
        "            targets = [{k: v.to(device) for k, v in t.items()} for t in targets]\n",
        "\n",
        "            outputs = model(images)\n",
        "            for target, output in zip(targets, outputs):\n",
        "                all_true_boxes.append(target['boxes'])\n",
        "                all_true_labels.append(target['labels'])\n",
        "                all_pred_boxes.append(output['boxes'].detach())\n",
        "                all_pred_labels.append(output['labels'].detach())\n",
        "                all_pred_scores.append(output['scores'].detach())\n",
        "\n",
        "            if i % 10 == 0:  # Provide feedback every 10 iterations\n",
        "                print(f\"  Evaluation Iteration {i}/{len(data_loader)}\")\n",
        "\n",
        "    precision, recall, f1, cm = compute_metrics_with_confusion_matrix(\n",
        "        all_true_boxes, all_true_labels, all_pred_boxes, all_pred_labels, all_pred_scores,\n",
        "        num_classes, iou_threshold, score_threshold\n",
        "    )\n",
        "\n",
        "    print(f\"Validation - Precision: {precision:.4f}, Recall: {recall:.4f}, F1-Score: {f1:.4f}\")\n",
        "\n",
        "    class_names = [f\"Class {i}\" for i in range(num_classes)] + [\"No Detection\"]\n",
        "    disp = ConfusionMatrixDisplay(confusion_matrix=cm, display_labels=class_names)\n",
        "    disp.plot(cmap=plt.cm.Blues, xticks_rotation='vertical')\n",
        "    plt.title(\"Confusion Matrix\")\n",
        "    plt.show()\n",
        "\n",
        "    return precision, recall, f1\n",
        "\n",
        "\n"
      ]
    },
    {
      "cell_type": "code",
      "source": [
        "import os\n",
        "import xml.etree.ElementTree as ET\n",
        "from PIL import Image\n",
        "\n",
        "def check_annotations_and_images(image_dir, annotation_dir, min_size=10):\n",
        "    \"\"\"Checks if annotations align with images and if any annotations are too small.\n",
        "\n",
        "    Args:\n",
        "        image_dir: The directory containing image files.\n",
        "        annotation_dir: The directory containing XML annotation files.\n",
        "        min_size: Minimum width/height in pixels to consider an annotation as valid.\n",
        "\n",
        "    Returns:\n",
        "        A tuple containing:\n",
        "        - The count of missing image-annotation pairs.\n",
        "        - The count of annotations that are too small.\n",
        "    \"\"\"\n",
        "    missing_images = 0\n",
        "    small_annotations = 0\n",
        "\n",
        "    for filename in os.listdir(annotation_dir):\n",
        "        if filename.endswith(\".xml\"):\n",
        "            annotation_filepath = os.path.join(annotation_dir, filename)\n",
        "            image_filename = filename.replace(\".xml\", \".jpg\")  # Assuming the images are jpg, adjust as needed\n",
        "            image_filepath = os.path.join(image_dir, image_filename)\n",
        "\n",
        "            # Check if the image exists\n",
        "            if not os.path.exists(image_filepath):\n",
        "                print(f\"Missing image for annotation: {image_filename}\")\n",
        "                missing_images += 1\n",
        "                continue\n",
        "\n",
        "            try:\n",
        "                tree = ET.parse(annotation_filepath)\n",
        "                root = tree.getroot()\n",
        "\n",
        "                # Open the image to get its size\n",
        "                image = Image.open(image_filepath)\n",
        "                img_width, img_height = image.size\n",
        "\n",
        "                for obj in root.findall(\"object\"):\n",
        "                    bndbox = obj.find(\"bndbox\")\n",
        "                    if bndbox is not None:\n",
        "                        xmin = int(bndbox.find(\"xmin\").text)\n",
        "                        ymin = int(bndbox.find(\"ymin\").text)\n",
        "                        xmax = int(bndbox.find(\"xmax\").text)\n",
        "                        ymax = int(bndbox.find(\"ymax\").text)\n",
        "\n",
        "                        # Check if the annotation is too small\n",
        "                        width = xmax - xmin\n",
        "                        height = ymax - ymin\n",
        "                        if width < min_size or height < min_size:\n",
        "                            print(f\"Small annotation in {filename}: width={width}, height={height}\")\n",
        "                            small_annotations += 1\n",
        "\n",
        "            except ET.ParseError:\n",
        "                print(f\"Error parsing {filename}\")\n",
        "\n",
        "    return missing_images, small_annotations\n",
        "\n",
        "# Define paths\n",
        "train_image_dir = \"/content/drive/MyDrive/all/train/images_transformed2\"\n",
        "train_annotation_dir = \"/content/drive/MyDrive/all/train/annotations_transformed2\"\n",
        "val_image_dir = \"/content/drive/MyDrive/all/val/images_transformed2\"\n",
        "val_annotation_dir = \"/content/drive/MyDrive/all/val/annotations_transformed2\"\n",
        "\n",
        "# Run checks\n",
        "train_missing, train_small = check_annotations_and_images(train_image_dir, train_annotation_dir)\n",
        "val_missing, val_small = check_annotations_and_images(val_image_dir, val_annotation_dir)\n",
        "\n",
        "print(f\"Missing annotations in train set: {train_missing}\")\n",
        "print(f\"Small annotations in train set: {train_small}\")\n",
        "print(f\"Missing annotations in validation set: {val_missing}\")\n",
        "print(f\"Small annotations in validation set: {val_small}\")\n"
      ],
      "metadata": {
        "colab": {
          "base_uri": "https://localhost:8080/"
        },
        "id": "2Mdo0vczHGcb",
        "outputId": "a7569bea-70be-4bd2-cdd7-93df5b7cb442"
      },
      "execution_count": 79,
      "outputs": [
        {
          "output_type": "stream",
          "name": "stdout",
          "text": [
            "Missing annotations in train set: 0\n",
            "Small annotations in train set: 0\n",
            "Missing annotations in validation set: 0\n",
            "Small annotations in validation set: 0\n"
          ]
        }
      ]
    },
    {
      "cell_type": "code",
      "source": [
        "# Training and evaluation\n",
        "import time\n",
        "\n",
        "# Start time\n",
        "start_time = time.time()\n",
        "\n",
        "train(model, train_loader, optimizer, num_epochs=5)\n",
        "evaluate_with_confusion_matrix(model, val_loader, num_classes=3)\n",
        "\n",
        "end_time = time.time()\n",
        "\n",
        "# Calculate and print training time\n",
        "total_time = end_time - start_time\n",
        "print(f\"Total training time: {total_time:.2f} seconds ({total_time / 60:.2f} minutes)\")"
      ],
      "metadata": {
        "colab": {
          "base_uri": "https://localhost:8080/",
          "height": 1000
        },
        "id": "xymRNYfqn5Pz",
        "outputId": "74d4c1ab-be20-4512-8457-212f94349b65"
      },
      "execution_count": 80,
      "outputs": [
        {
          "output_type": "stream",
          "name": "stdout",
          "text": [
            "Epoch 1/5 started...\n",
            "  Iteration 0/244, Loss: 0.9273\n",
            "  Iteration 10/244, Loss: 0.2690\n",
            "  Iteration 20/244, Loss: 1.7856\n",
            "  Iteration 30/244, Loss: 0.5588\n",
            "  Iteration 40/244, Loss: 1.6930\n",
            "  Iteration 50/244, Loss: 1.1103\n",
            "  Iteration 60/244, Loss: 0.4250\n",
            "  Iteration 70/244, Loss: 0.9921\n",
            "  Iteration 80/244, Loss: 1.5440\n",
            "  Iteration 90/244, Loss: 2.2514\n",
            "  Iteration 100/244, Loss: 2.4109\n",
            "  Iteration 110/244, Loss: 0.6712\n",
            "  Iteration 120/244, Loss: 2.1086\n",
            "  Iteration 130/244, Loss: 1.5085\n",
            "  Iteration 140/244, Loss: 2.8033\n",
            "  Iteration 150/244, Loss: 0.3861\n",
            "  Iteration 160/244, Loss: 2.3324\n",
            "  Iteration 170/244, Loss: 1.3324\n",
            "  Iteration 180/244, Loss: 1.5831\n",
            "  Iteration 190/244, Loss: 1.1318\n",
            "  Iteration 200/244, Loss: 1.0884\n",
            "  Iteration 210/244, Loss: 0.8681\n",
            "  Iteration 220/244, Loss: 0.7273\n",
            "  Iteration 230/244, Loss: 1.5281\n",
            "  Iteration 240/244, Loss: 0.9160\n",
            "Epoch 1/5 finished, Average Loss: 1.2976\n",
            "Epoch 2/5 started...\n",
            "  Iteration 0/244, Loss: 0.8014\n",
            "  Iteration 10/244, Loss: 1.3756\n",
            "  Iteration 20/244, Loss: 0.8918\n",
            "  Iteration 30/244, Loss: 1.2812\n",
            "  Iteration 40/244, Loss: 0.6839\n",
            "  Iteration 50/244, Loss: 0.4440\n",
            "  Iteration 60/244, Loss: 1.8497\n",
            "  Iteration 70/244, Loss: 1.8777\n",
            "  Iteration 80/244, Loss: 0.8313\n",
            "  Iteration 90/244, Loss: 0.6820\n",
            "  Iteration 100/244, Loss: 0.9047\n",
            "  Iteration 110/244, Loss: 1.1977\n",
            "  Iteration 120/244, Loss: 1.3734\n",
            "  Iteration 130/244, Loss: 1.7713\n",
            "  Iteration 140/244, Loss: 0.2859\n",
            "  Iteration 150/244, Loss: 0.6328\n",
            "  Iteration 160/244, Loss: 2.8932\n",
            "  Iteration 170/244, Loss: 1.0769\n",
            "  Iteration 180/244, Loss: 1.7958\n",
            "  Iteration 190/244, Loss: 0.6351\n",
            "  Iteration 200/244, Loss: 1.2838\n",
            "  Iteration 210/244, Loss: 1.4926\n",
            "  Iteration 220/244, Loss: 1.8049\n",
            "  Iteration 230/244, Loss: 0.4881\n",
            "  Iteration 240/244, Loss: 1.6023\n",
            "Epoch 2/5 finished, Average Loss: 1.3065\n",
            "Epoch 3/5 started...\n",
            "  Iteration 0/244, Loss: 0.6443\n",
            "  Iteration 10/244, Loss: 1.5348\n",
            "  Iteration 20/244, Loss: 3.2099\n",
            "  Iteration 30/244, Loss: 1.7138\n",
            "  Iteration 40/244, Loss: 1.2505\n",
            "  Iteration 50/244, Loss: 1.7224\n",
            "  Iteration 60/244, Loss: 2.0254\n",
            "  Iteration 70/244, Loss: 1.7333\n",
            "  Iteration 80/244, Loss: 0.7062\n",
            "  Iteration 90/244, Loss: 0.7597\n",
            "  Iteration 100/244, Loss: 0.4992\n",
            "  Iteration 110/244, Loss: 2.2185\n",
            "  Iteration 120/244, Loss: 0.9726\n",
            "  Iteration 130/244, Loss: 2.6450\n",
            "  Iteration 140/244, Loss: 1.6104\n",
            "  Iteration 150/244, Loss: 2.3751\n",
            "  Iteration 160/244, Loss: 1.0918\n",
            "  Iteration 170/244, Loss: 2.2020\n",
            "  Iteration 180/244, Loss: 0.5561\n",
            "  Iteration 190/244, Loss: 0.7129\n",
            "  Iteration 200/244, Loss: 2.4552\n",
            "  Iteration 210/244, Loss: 0.9597\n",
            "  Iteration 220/244, Loss: 0.4319\n",
            "  Iteration 230/244, Loss: 0.8703\n",
            "  Iteration 240/244, Loss: 1.1682\n",
            "Epoch 3/5 finished, Average Loss: 1.3045\n",
            "Epoch 4/5 started...\n",
            "  Iteration 0/244, Loss: 1.6419\n",
            "  Iteration 10/244, Loss: 0.5832\n",
            "  Iteration 20/244, Loss: 1.7367\n",
            "  Iteration 30/244, Loss: 0.6157\n",
            "  Iteration 40/244, Loss: 2.0677\n",
            "  Iteration 50/244, Loss: 2.6082\n",
            "  Iteration 60/244, Loss: 1.1754\n",
            "  Iteration 70/244, Loss: 1.2763\n",
            "  Iteration 80/244, Loss: 1.2332\n",
            "  Iteration 90/244, Loss: 1.6076\n",
            "  Iteration 100/244, Loss: 0.8165\n",
            "  Iteration 110/244, Loss: 0.6577\n",
            "  Iteration 120/244, Loss: 2.0976\n",
            "  Iteration 130/244, Loss: 2.3910\n",
            "  Iteration 140/244, Loss: 0.9219\n",
            "  Iteration 150/244, Loss: 0.7418\n",
            "  Iteration 160/244, Loss: 1.8140\n",
            "  Iteration 170/244, Loss: 1.1923\n",
            "  Iteration 180/244, Loss: 0.8562\n",
            "  Iteration 190/244, Loss: 1.7810\n",
            "  Iteration 200/244, Loss: 1.0983\n",
            "  Iteration 210/244, Loss: 1.1617\n",
            "  Iteration 220/244, Loss: 1.0121\n",
            "  Iteration 230/244, Loss: 1.2178\n",
            "  Iteration 240/244, Loss: 0.5004\n",
            "Epoch 4/5 finished, Average Loss: 1.3113\n",
            "Epoch 5/5 started...\n",
            "  Iteration 0/244, Loss: 1.0413\n",
            "  Iteration 10/244, Loss: 0.8928\n",
            "  Iteration 20/244, Loss: 1.4944\n",
            "  Iteration 30/244, Loss: 2.9430\n",
            "  Iteration 40/244, Loss: 0.8420\n",
            "  Iteration 50/244, Loss: 1.1175\n",
            "  Iteration 60/244, Loss: 0.3586\n",
            "  Iteration 70/244, Loss: 1.3340\n",
            "  Iteration 80/244, Loss: 1.6213\n",
            "  Iteration 90/244, Loss: 0.6854\n",
            "  Iteration 100/244, Loss: 2.4273\n",
            "  Iteration 110/244, Loss: 1.5079\n",
            "  Iteration 120/244, Loss: 1.3205\n",
            "  Iteration 130/244, Loss: 1.8834\n",
            "  Iteration 140/244, Loss: 2.4637\n",
            "  Iteration 150/244, Loss: 0.2335\n",
            "  Iteration 160/244, Loss: 1.9769\n",
            "  Iteration 170/244, Loss: 0.5973\n",
            "  Iteration 180/244, Loss: 1.5439\n",
            "  Iteration 190/244, Loss: 1.2333\n",
            "  Iteration 200/244, Loss: 0.6755\n",
            "  Iteration 210/244, Loss: 1.4545\n",
            "  Iteration 220/244, Loss: 0.9466\n",
            "  Iteration 230/244, Loss: 2.6471\n",
            "  Iteration 240/244, Loss: 1.3636\n",
            "Epoch 5/5 finished, Average Loss: 1.3001\n",
            "Model saved to /content/drive/MyDrive/all/results/frcnn_model_20250222.pth\n",
            "  Evaluation Iteration 0/47\n",
            "  Evaluation Iteration 10/47\n",
            "  Evaluation Iteration 20/47\n",
            "  Evaluation Iteration 30/47\n",
            "  Evaluation Iteration 40/47\n",
            "Validation - Precision: 0.0000, Recall: 0.0000, F1-Score: 0.0000\n"
          ]
        },
        {
          "output_type": "display_data",
          "data": {
            "text/plain": [
              "<Figure size 640x480 with 2 Axes>"
            ],
            "image/png": "[encoded data removed]"
          },
          "metadata": {}
        },
        {
          "output_type": "stream",
          "name": "stdout",
          "text": [
            "Total training time: 1589.14 seconds (26.49 minutes)\n"
          ]
        }
      ]
    }
  ]
}