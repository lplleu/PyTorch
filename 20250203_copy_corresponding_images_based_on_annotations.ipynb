{
 "cells": [
  {
   "cell_type": "code",
   "execution_count": null,
   "id": "5c264659-1289-4bcd-9c43-66ba5790778d",
   "metadata": {},
   "outputs": [],
   "source": [
    "import os\n",
    "import shutil\n",
    "import glob"
   ]
  },
  {
   "cell_type": "code",
   "execution_count": null,
   "id": "c1f7d048-312a-456c-acd7-ac57072dab58",
   "metadata": {},
   "outputs": [],
   "source": [
    "# Define paths\n",
    "train_images_dir = \"datasets/all/train/images_2\"\n",
    "val_images_dir = \"datasets/all/val/images_2\"\n",
    "train_annotations_dir = \"datasets/all/train/annotations_2\"\n",
    "val_annotations_dir = \"datasets/all/val/annotations_2\"\n",
    "train_target_dir = \"datasets/all/train/annotations_1\"\n",
    "val_target_dir = \"datasets/all/val/annotations_1\"\n",
    "\n",
    "# Ensure target directories exist\n",
    "os.makedirs(train_target_dir, exist_ok=True)\n",
    "os.makedirs(val_target_dir, exist_ok=True)\n",
    "\n",
    "def copy_matching_annotations(image_dir, annotation_dir, target_dir):\n",
    "    \"\"\"Copies XML annotations that have corresponding JPG images.\"\"\"\n",
    "    # Get all JPG file names without extension\n",
    "    image_files = {os.path.splitext(os.path.basename(f))[0] for f in glob.glob(os.path.join(image_dir, \"*.jpg\"))}\n",
    "    \n",
    "    # Iterate over XML files in the annotation directory\n",
    "    for annotation_file in glob.glob(os.path.join(annotation_dir, \"*.xml\")):\n",
    "        annotation_name = os.path.splitext(os.path.basename(annotation_file))[0]\n",
    "        \n",
    "        # Check if there's a corresponding JPG file\n",
    "        if annotation_name in image_files:\n",
    "            shutil.copy(annotation_file, os.path.join(target_dir, os.path.basename(annotation_file)))\n",
    "\n",
    "# Process train and val datasets\n",
    "copy_matching_annotations(train_images_dir, train_annotations_dir, train_target_dir)\n",
    "copy_matching_annotations(val_images_dir, val_annotations_dir, val_target_dir)\n",
    "\n",
    "def count_files(directory, extension):\n",
    "    \"\"\"Counts the number of files with a given extension in a directory.\"\"\"\n",
    "    return len(glob.glob(os.path.join(directory, f\"*.{extension}\")))\n",
    "\n",
    "# Count files\n",
    "train_annotations_count = count_files(train_target_dir, \"xml\")\n",
    "val_annotations_count = count_files(val_target_dir, \"xml\")\n",
    "train_images_count = count_files(train_images_dir, \"jpg\")\n",
    "val_images_count = count_files(val_images_dir, \"jpg\")\n",
    "\n",
    "print(f\"Train annotations copied: {train_annotations_count}\")\n",
    "print(f\"Val annotations copied: {val_annotations_count}\")\n",
    "print(f\"Train images available: {train_images_count}\")\n",
    "print(f\"Val images available: {val_images_count}\")\n",
    "\n",
    "print(\"Annotation copying completed.\")\n"
   ]
  }
 ],
 "metadata": {
  "kernelspec": {
   "display_name": "Python 3 (ipykernel)",
   "language": "python",
   "name": "python3"
  },
  "language_info": {
   "codemirror_mode": {
    "name": "ipython",
    "version": 3
   },
   "file_extension": ".py",
   "mimetype": "text/x-python",
   "name": "python",
   "nbconvert_exporter": "python",
   "pygments_lexer": "ipython3",
   "version": "3.11.4"
  }
 },
 "nbformat": 4,
 "nbformat_minor": 5
}
