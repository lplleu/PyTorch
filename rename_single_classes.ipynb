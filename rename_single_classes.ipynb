{
 "cells": [
  {
   "cell_type": "code",
   "execution_count": null,
   "id": "34d2e686-de52-47fe-a079-ceb99d705569",
   "metadata": {},
   "outputs": [],
   "source": [
    "import os"
   ]
  },
  {
   "cell_type": "code",
   "execution_count": null,
   "id": "0d87db33-70ac-4a73-8fc4-05d7cd2f22a0",
   "metadata": {},
   "outputs": [],
   "source": [
    "\n",
    "# Define label directories\n",
    "label_dirs = [\n",
    "    \"datasets/mokolwane/train/labels\",\n",
    "    \"datasets/mopororo/train/labels\",\n",
    "    \"datasets/motswere/train/labels\"\n",
    "]\n",
    "\n",
    "# Process label files\n",
    "file_count = 0\n",
    "for label_dir in label_dirs:\n",
    "    for filename in os.listdir(label_dir):\n",
    "        if filename.endswith(\".txt\"):  # Ensure it's a text file\n",
    "            file_path = os.path.join(label_dir, filename)\n",
    "            \n",
    "            # Read and modify file content\n",
    "            with open(file_path, \"r\") as file:\n",
    "                lines = file.readlines()\n",
    "            \n",
    "            modified_lines = []\n",
    "            for line in lines:\n",
    "                parts = line.split()\n",
    "                if parts:  # Ensure the line is not empty\n",
    "                    parts[0] = \"0\"  # Replace class with 0\n",
    "                    modified_lines.append(\" \".join(parts) + \"\\n\")\n",
    "            \n",
    "            # Write back modified content\n",
    "            with open(file_path, \"w\") as file:\n",
    "                file.writelines(modified_lines)\n",
    "            \n",
    "            file_count += 1\n",
    "            print(f\"Updated {filename} in {label_dir}\")\n",
    "\n",
    "print(f\"Processing complete. Total files updated: {file_count}\")"
   ]
  }
 ],
 "metadata": {
  "kernelspec": {
   "display_name": "Python 3 (ipykernel)",
   "language": "python",
   "name": "python3"
  },
  "language_info": {
   "codemirror_mode": {
    "name": "ipython",
    "version": 3
   },
   "file_extension": ".py",
   "mimetype": "text/x-python",
   "name": "python",
   "nbconvert_exporter": "python",
   "pygments_lexer": "ipython3",
   "version": "3.11.4"
  }
 },
 "nbformat": 4,
 "nbformat_minor": 5
}
