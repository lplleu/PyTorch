{
 "cells": [
  {
   "cell_type": "code",
   "execution_count": null,
   "id": "cbf22640-33b4-41b8-8f9e-77ccb624f802",
   "metadata": {},
   "outputs": [],
   "source": [
    "import os\n",
    "import shutil\n",
    "import glob"
   ]
  },
  {
   "cell_type": "code",
   "execution_count": null,
   "id": "11f4fb5d-d4be-423e-954f-e9983ba38e40",
   "metadata": {},
   "outputs": [],
   "source": [
    "# Define paths\n",
    "train_images_dir = \"datasets/all/train/images\"\n",
    "val_images_dir = \"datasets/all/val/images\"\n",
    "train_annotations_dir = \"datasets/all/train/annotations_2\"\n",
    "val_annotations_dir = \"datasets/all/val/annotations_2\"\n",
    "train_target_dir = \"datasets/all/train/images_2\"\n",
    "val_target_dir = \"datasets/all/val/images_2\"\n",
    "\n",
    "# Ensure target directories exist\n",
    "os.makedirs(train_target_dir, exist_ok=True)\n",
    "os.makedirs(val_target_dir, exist_ok=True)\n",
    "\n",
    "def copy_matching_images(image_dir, annotation_dir, target_dir):\n",
    "    \"\"\"Copies images that have corresponding XML annotations.\"\"\"\n",
    "    # Get all XML file names without extension\n",
    "    xml_files = {os.path.splitext(os.path.basename(f))[0] for f in glob.glob(os.path.join(annotation_dir, \"*.xml\"))}\n",
    "    \n",
    "    # Iterate over JPG files in the image directory\n",
    "    for image_file in glob.glob(os.path.join(image_dir, \"*.jpg\")):\n",
    "        image_name = os.path.splitext(os.path.basename(image_file))[0]\n",
    "        \n",
    "        # Check if there's a corresponding XML file\n",
    "        if image_name in xml_files:\n",
    "            shutil.copy(image_file, os.path.join(target_dir, os.path.basename(image_file)))\n",
    "\n",
    "# Process train and val datasets\n",
    "copy_matching_images(train_images_dir, train_annotations_dir, train_target_dir)\n",
    "copy_matching_images(val_images_dir, val_annotations_dir, val_target_dir)\n",
    "\n",
    "def count_files(directory, extension):\n",
    "    \"\"\"Counts the number of files with a given extension in a directory.\"\"\"\n",
    "    return len(glob.glob(os.path.join(directory, f\"*.{extension}\")))\n",
    "\n",
    "# Count files\n",
    "train_annotations_count = count_files(train_annotations_dir, \"xml\")\n",
    "val_annotations_count = count_files(val_annotations_dir, \"xml\")\n",
    "train_images_count = count_files(train_target_dir, \"jpg\")\n",
    "val_images_count = count_files(val_target_dir, \"jpg\")\n",
    "\n",
    "print(f\"Train annotations: {train_annotations_count}\")\n",
    "print(f\"Val annotations: {val_annotations_count}\")\n",
    "print(f\"Train images copied: {train_images_count}\")\n",
    "print(f\"Val images copied: {val_images_count}\")\n",
    "\n",
    "print(\"Image copying completed.\")\n"
   ]
  }
 ],
 "metadata": {
  "kernelspec": {
   "display_name": "Python 3 (ipykernel)",
   "language": "python",
   "name": "python3"
  },
  "language_info": {
   "codemirror_mode": {
    "name": "ipython",
    "version": 3
   },
   "file_extension": ".py",
   "mimetype": "text/x-python",
   "name": "python",
   "nbconvert_exporter": "python",
   "pygments_lexer": "ipython3",
   "version": "3.11.4"
  }
 },
 "nbformat": 4,
 "nbformat_minor": 5
}
