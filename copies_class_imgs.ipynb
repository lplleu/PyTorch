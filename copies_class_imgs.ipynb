{
 "cells": [
  {
   "cell_type": "code",
   "execution_count": null,
   "id": "74832dd3-5e2c-4a59-9828-1d9d94e93cd2",
   "metadata": {},
   "outputs": [],
   "source": [
    "import os\n",
    "import shutil"
   ]
  },
  {
   "cell_type": "code",
   "execution_count": null,
   "id": "8e4816ae-9986-4bf3-90a3-2d2d2700fb61",
   "metadata": {},
   "outputs": [],
   "source": [
    "# Define paths\n",
    "label_source_dir = \"Documents/datasets/all/train/labels\"\n",
    "image_source_dir = \"Documents/datasets/all/train/images\"\n",
    "dest_dirs = {\n",
    "    \"0\": {\n",
    "        \"labels\": \"Documents/datasets/mokolwane/train/labels\",\n",
    "        \"images\": \"Documents/datasets/mokolwane/train/images\",\n",
    "    },\n",
    "    \"1\": {\n",
    "        \"labels\": \"Documents/datasets/mopororo/train/labels\",\n",
    "        \"images\": \"Documents/datasets/mopororo/train/images\",\n",
    "    },\n",
    "    \"2\": {\n",
    "        \"labels\": \"Documents/datasets/motswere/train/labels\",\n",
    "        \"images\": \"Documents/datasets/motswere/train/images\",\n",
    "    },\n",
    "}\n",
    "\n",
    "# Ensure destination directories exist\n",
    "for paths in dest_dirs.values():\n",
    "    os.makedirs(paths[\"labels\"], exist_ok=True)\n",
    "    os.makedirs(paths[\"images\"], exist_ok=True)\n",
    "\n",
    "# Process label files\n",
    "label_count = 0\n",
    "image_count = 0\n",
    "for filename in os.listdir(label_source_dir):\n",
    "    if filename.endswith(\".txt\"):  # Ensure it's a text file\n",
    "        file_path = os.path.join(label_source_dir, filename)\n",
    "        \n",
    "        with open(file_path, \"r\") as file:\n",
    "            content = file.read()\n",
    "            \n",
    "            for class_id, paths in dest_dirs.items():\n",
    "                if class_id in content.split():  # Check if class exists in the file\n",
    "                    shutil.copy(file_path, paths[\"labels\"])\n",
    "                    label_count += 1\n",
    "                    print(f\"Copied {filename} to {paths['labels']}\")\n",
    "                    \n",
    "                    # Copy corresponding image\n",
    "                    image_filename = filename.replace(\".txt\", \".jpg\")\n",
    "                    image_path = os.path.join(image_source_dir, image_filename)\n",
    "                    if os.path.exists(image_path):\n",
    "                        shutil.copy(image_path, paths[\"images\"])\n",
    "                        image_count += 1\n",
    "                        print(f\"Copied {image_filename} to {paths['images']}\")\n",
    "                    else:\n",
    "                        print(f\"Image {image_filename} not found.\")\n",
    "                    break  # Copy to only one class directory\n",
    "\n",
    "print(f\"Files copied successfully. Total label files copied: {label_count}, Total images copied: {image_count}\")\n"
   ]
  }
 ],
 "metadata": {
  "kernelspec": {
   "display_name": "Python 3 (ipykernel)",
   "language": "python",
   "name": "python3"
  },
  "language_info": {
   "codemirror_mode": {
    "name": "ipython",
    "version": 3
   },
   "file_extension": ".py",
   "mimetype": "text/x-python",
   "name": "python",
   "nbconvert_exporter": "python",
   "pygments_lexer": "ipython3",
   "version": "3.11.4"
  }
 },
 "nbformat": 4,
 "nbformat_minor": 5
}
