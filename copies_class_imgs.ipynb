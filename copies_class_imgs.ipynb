{
 "cells": [
  {
   "cell_type": "code",
   "execution_count": null,
   "id": "74832dd3-5e2c-4a59-9828-1d9d94e93cd2",
   "metadata": {},
   "outputs": [],
   "source": [
    "import os\n",
    "import shutil"
   ]
  },
  {
   "cell_type": "code",
   "execution_count": null,
   "id": "8e4816ae-9986-4bf3-90a3-2d2d2700fb61",
   "metadata": {},
   "outputs": [],
   "source": [
    "# Define paths\n",
    "image_source_dir = \"Documents/datasets/all/train/images\"\n",
    "label_dirs = {\n",
    "    \"mokolwane\": \"Documents/datasets/mokolwane/train/labels\",\n",
    "    \"mopororo\": \"Documents/datasets/mopororo/train/labels\",\n",
    "    \"motswere\": \"Documents/datasets/motswere/train/labels\",\n",
    "}\n",
    "image_dest_dirs = {\n",
    "    \"mokolwane\": \"Documents/datasets/mokolwane/train/images\",\n",
    "    \"mopororo\": \"Documents/datasets/mopororo/train/images\",\n",
    "    \"motswere\": \"Documents/datasets/motswere/train/images\",\n",
    "}\n",
    "\n",
    "# Ensure destination directories exist\n",
    "for path in image_dest_dirs.values():\n",
    "    os.makedirs(path, exist_ok=True)\n",
    "\n",
    "# Copy images corresponding to label files\n",
    "image_count = 0\n",
    "for category, label_dir in label_dirs.items():\n",
    "    for filename in os.listdir(label_dir):\n",
    "        if filename.endswith(\".txt\"):  # Get corresponding image file\n",
    "            image_filename = filename.replace(\".txt\", \".jpg\")\n",
    "            image_path = os.path.join(image_source_dir, image_filename)\n",
    "            dest_path = image_dest_dirs[category]\n",
    "            \n",
    "            if os.path.exists(image_path):\n",
    "                shutil.copy(image_path, dest_path)\n",
    "                image_count += 1\n",
    "                print(f\"Copied {image_filename} to {dest_path}\")\n",
    "            else:\n",
    "                print(f\"Image {image_filename} not found.\")\n",
    "\n",
    "print(f\"Files copied successfully. Total images copied: {image_count}\")"
   ]
  }
 ],
 "metadata": {
  "kernelspec": {
   "display_name": "Python 3 (ipykernel)",
   "language": "python",
   "name": "python3"
  },
  "language_info": {
   "codemirror_mode": {
    "name": "ipython",
    "version": 3
   },
   "file_extension": ".py",
   "mimetype": "text/x-python",
   "name": "python",
   "nbconvert_exporter": "python",
   "pygments_lexer": "ipython3",
   "version": "3.11.4"
  }
 },
 "nbformat": 4,
 "nbformat_minor": 5
}
