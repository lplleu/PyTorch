{
 "cells": [
  {
   "cell_type": "code",
   "execution_count": null,
   "id": "abfbfd94-f71e-45d5-8741-25528383fb00",
   "metadata": {},
   "outputs": [],
   "source": [
    "import os\n",
    "import shutil"
   ]
  },
  {
   "cell_type": "code",
   "execution_count": null,
   "id": "a0a0bfb0-5843-4986-abec-c2a3f90e6599",
   "metadata": {},
   "outputs": [],
   "source": [
    "# Define paths\n",
    "source_dir = \"Documents/datasets/all/train/labels\"\n",
    "dest_dirs = {\n",
    "    \"0\": \"Documents/datasets/mokolwane/train/labels\",\n",
    "    \"1\": \"Documents/datasets/mopororo/train/labels\",\n",
    "    \"2\": \"Documents/datasets/motswere/train/labels\",\n",
    "}\n",
    "\n",
    "# Ensure destination directories exist\n",
    "for path in dest_dirs.values():\n",
    "    os.makedirs(path, exist_ok=True)\n",
    "\n",
    "# Process files\n",
    "file_count = 0\n",
    "for filename in os.listdir(source_dir):\n",
    "    if filename.endswith(\".txt\"):  # Ensure it's a text file\n",
    "        file_path = os.path.join(source_dir, filename)\n",
    "        \n",
    "        with open(file_path, \"r\") as file:\n",
    "            content = file.read()\n",
    "            \n",
    "            for class_id, dest_path in dest_dirs.items():\n",
    "                if class_id in content.split():  # Check if class exists in the file\n",
    "                    shutil.copy(file_path, dest_path)\n",
    "                    file_count += 1\n",
    "                    print(f\"Copied {filename} to {dest_path}\")\n",
    "                    break  # Copy to only one class directory\n",
    "\n",
    "print(f\"Files copied successfully. Total files copied: {file_count}\")"
   ]
  }
 ],
 "metadata": {
  "kernelspec": {
   "display_name": "Python 3 (ipykernel)",
   "language": "python",
   "name": "python3"
  },
  "language_info": {
   "codemirror_mode": {
    "name": "ipython",
    "version": 3
   },
   "file_extension": ".py",
   "mimetype": "text/x-python",
   "name": "python",
   "nbconvert_exporter": "python",
   "pygments_lexer": "ipython3",
   "version": "3.11.4"
  }
 },
 "nbformat": 4,
 "nbformat_minor": 5
}
