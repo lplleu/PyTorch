import os
import xml.etree.ElementTree as ET
from collections import defaultdict

# Define the paths to the annotation directories
train_dir = "datasets/all/train/annotations_transformed"
val_dir = "datasets/all/val/annotations_transformed"

# Function to count annotations per class in a directory
def count_annotations(directory):
    class_counts = defaultdict(int)

    # Iterate through XML files in the directory
    for filename in os.listdir(directory):
        if filename.endswith(".xml"):
            file_path = os.path.join(directory, filename)
            tree = ET.parse(file_path)
            root = tree.getroot()

            # Iterate over all objects in the XML file
            for obj in root.findall("object"):
                class_name = obj.find("name").text
                class_counts[class_name] += 1

    return class_counts

# Count annotations in the training and validation datasets
train_counts = count_annotations(train_dir)
val_counts = count_annotations(val_dir)

# Display the results
print("Train dataset class counts:")
for class_name, count in train_counts.items():
    print(f"{class_name}: {count}")

print("\nValidation dataset class counts:")
for class_name, count in val_counts.items():
    print(f"{class_name}: {count}")
