{
  "nbformat": 4,
  "nbformat_minor": 0,
  "metadata": {
    "colab": {
      "provenance": []
    },
    "kernelspec": {
      "name": "python3",
      "display_name": "Python 3"
    },
    "language_info": {
      "name": "python"
    }
  },
  "cells": [
    {
      "cell_type": "code",
      "execution_count": null,
      "metadata": {
        "id": "Dgqgx5Ogs0nR"
      },
      "outputs": [],
      "source": [
        "# prompt: create colab code for the following look for xml annotations in \"/content/drive/MyDrive/all/train/annotations_transformed\" and \"/content/drive/MyDrive/all/val/annotations_transformed\". the corresponding images are in \"/content/drive/MyDrive/all/train/annotations_transformed\" and \"/content/drive/MyDrive/all/val/annotations_transformed\", respectively. look for annotations with empty bounding boxes. and where these are found, delete the bounding boxes. all the remaining xml files with valid bounding boxes should be copied to the new folders \"/content/drive/MyDrive/all/train/annotations_transformed2\" and \"/content/drive/MyDrive/all/val/annotations_transformed2\", respectively\n",
        "\n",
        "import os\n",
        "import xml.etree.ElementTree as ET\n",
        "import shutil\n",
        "\n",
        "def process_annotations(source_dir, dest_dir):\n",
        "    if not os.path.exists(dest_dir):\n",
        "        os.makedirs(dest_dir)\n",
        "    for filename in os.listdir(source_dir):\n",
        "        if filename.endswith(\".xml\"):\n",
        "            filepath = os.path.join(source_dir, filename)\n",
        "            try:\n",
        "                tree = ET.parse(filepath)\n",
        "                root = tree.getroot()\n",
        "                objects_to_remove = []\n",
        "                for obj in root.findall('object'):\n",
        "                    bndbox = obj.find('bndbox')\n",
        "                    if bndbox is not None:\n",
        "                        xmin = int(bndbox.find('xmin').text)\n",
        "                        ymin = int(bndbox.find('ymin').text)\n",
        "                        xmax = int(bndbox.find('xmax').text)\n",
        "                        ymax = int(bndbox.find('ymax').text)\n",
        "                        if xmin == xmax or ymin == ymax or xmin > xmax or ymin > ymax :\n",
        "                            objects_to_remove.append(obj)\n",
        "\n",
        "                for obj in objects_to_remove:\n",
        "                    root.remove(obj)\n",
        "\n",
        "                if len(root.findall('object')) > 0: # Only copy if there's at least one object\n",
        "                  dest_filepath = os.path.join(dest_dir, filename)\n",
        "                  tree.write(dest_filepath)\n",
        "            except ET.ParseError as e:\n",
        "                print(f\"Error parsing {filename}: {e}\")\n",
        "\n",
        "# Process train annotations\n",
        "train_source_dir = \"/content/drive/MyDrive/all/train/annotations_transformed\"\n",
        "train_dest_dir = \"/content/drive/MyDrive/all/train/annotations_transformed2\"\n",
        "process_annotations(train_source_dir, train_dest_dir)\n",
        "\n",
        "# Process validation annotations\n",
        "val_source_dir = \"/content/drive/MyDrive/all/val/annotations_transformed\"\n",
        "val_dest_dir = \"/content/drive/MyDrive/all/val/annotations_transformed2\"\n",
        "process_annotations(val_source_dir, val_dest_dir)"
      ]
    },
    {
      "cell_type": "code",
      "source": [
        "# prompt: create colab code for the following look for xml annotations in \"/content/drive/MyDrive/all/train/annotations_transformed\" and \"/content/drive/MyDrive/all/val/annotations_transformed\". the corresponding images are in \"/content/drive/MyDrive/all/train/images\" and \"/content/drive/MyDrive/all/val/images\", respectively. look for annotations with empty bounding boxes. and where these are found, delete the bounding boxes. all the remaining xml files with valid bounding boxes should be copied to the new folders \"/content/drive/MyDrive/all/train/annotations_transformed2\" and \"/content/drive/MyDrive/all/val/annotations_transformed2\", respectively. at the same time the img files matching the valid annotations should be copied to  \"/content/drive/MyDrive/all/train/images2\" and \"/content/drive/MyDrive/all/val/images2\", respectively\n",
        "\n",
        "import os\n",
        "import xml.etree.ElementTree as ET\n",
        "import shutil\n",
        "\n",
        "def process_annotations(source_annotation_dir, source_image_dir, dest_annotation_dir, dest_image_dir):\n",
        "    if not os.path.exists(dest_annotation_dir):\n",
        "        os.makedirs(dest_annotation_dir)\n",
        "    if not os.path.exists(dest_image_dir):\n",
        "        os.makedirs(dest_image_dir)\n",
        "\n",
        "    for filename in os.listdir(source_annotation_dir):\n",
        "        if filename.endswith(\".xml\"):\n",
        "            annotation_filepath = os.path.join(source_annotation_dir, filename)\n",
        "            try:\n",
        "                tree = ET.parse(annotation_filepath)\n",
        "                root = tree.getroot()\n",
        "                objects_to_remove = []\n",
        "                for obj in root.findall('object'):\n",
        "                    bndbox = obj.find('bndbox')\n",
        "                    if bndbox is not None:\n",
        "                        xmin = int(bndbox.find('xmin').text)\n",
        "                        ymin = int(bndbox.find('ymin').text)\n",
        "                        xmax = int(bndbox.find('xmax').text)\n",
        "                        ymax = int(bndbox.find('ymax').text)\n",
        "                        if xmin == xmax or ymin == ymax or xmin > xmax or ymin > ymax:\n",
        "                            objects_to_remove.append(obj)\n",
        "\n",
        "                for obj in objects_to_remove:\n",
        "                    root.remove(obj)\n",
        "\n",
        "                if len(root.findall('object')) > 0:  # Only copy if there's at least one object\n",
        "                    dest_annotation_filepath = os.path.join(dest_annotation_dir, filename)\n",
        "                    tree.write(dest_annotation_filepath)\n",
        "\n",
        "                    #copy corresponding image file\n",
        "                    image_filename = filename[:-4] + \".jpg\" # Assuming images are JPGs\n",
        "                    source_image_path = os.path.join(source_image_dir, image_filename)\n",
        "                    dest_image_path = os.path.join(dest_image_dir, image_filename)\n",
        "                    if os.path.exists(source_image_path):\n",
        "                        shutil.copy2(source_image_path, dest_image_path)\n",
        "                    else:\n",
        "                        print(f\"Warning: Image file not found for {filename}: {source_image_path}\")\n",
        "\n",
        "            except ET.ParseError as e:\n",
        "                print(f\"Error parsing {filename}: {e}\")\n",
        "            except Exception as e:\n",
        "                print(f\"An unexpected error occurred while processing {filename}: {e}\")\n",
        "\n",
        "\n",
        "# Process train data\n",
        "train_source_annotation_dir = \"/content/drive/MyDrive/all/train/annotations_transformed\"\n",
        "train_source_image_dir = \"/content/drive/MyDrive/all/train/images\"\n",
        "train_dest_annotation_dir = \"/content/drive/MyDrive/all/train/annotations_transformed2\"\n",
        "train_dest_image_dir = \"/content/drive/MyDrive/all/train/images2\"\n",
        "process_annotations(train_source_annotation_dir, train_source_image_dir, train_dest_annotation_dir, train_dest_image_dir)\n",
        "\n",
        "# Process validation data\n",
        "val_source_annotation_dir = \"/content/drive/MyDrive/all/val/annotations_transformed\"\n",
        "val_source_image_dir = \"/content/drive/MyDrive/all/val/images\"\n",
        "val_dest_annotation_dir = \"/content/drive/MyDrive/all/val/annotations_transformed2\"\n",
        "val_dest_image_dir = \"/content/drive/MyDrive/all/val/images2\"\n",
        "process_annotations(val_source_annotation_dir, val_source_image_dir, val_dest_annotation_dir, val_dest_image_dir)"
      ],
      "metadata": {
        "id": "tfp0hRQ5uH3E"
      },
      "execution_count": null,
      "outputs": []
    },
    {
      "cell_type": "markdown",
      "source": [
        "# from chatgpt"
      ],
      "metadata": {
        "id": "EOtrCL6Xubqy"
      }
    },
    {
      "cell_type": "code",
      "source": [
        "# prompt: mount drive\n",
        "\n",
        "from google.colab import drive\n",
        "drive.mount('/content/drive')\n"
      ],
      "metadata": {
        "colab": {
          "base_uri": "https://localhost:8080/"
        },
        "id": "PfKcXuNxuhVZ",
        "outputId": "d1da0188-c8f6-4c12-906f-673be9013336"
      },
      "execution_count": null,
      "outputs": [
        {
          "output_type": "stream",
          "name": "stdout",
          "text": [
            "Mounted at /content/drive\n"
          ]
        }
      ]
    },
    {
      "cell_type": "code",
      "source": [
        "import os\n",
        "import shutil\n",
        "import xml.etree.ElementTree as ET\n",
        "\n",
        "# Define paths\n",
        "train_annotation_dir = \"/content/drive/MyDrive/all/train/annotations_transformed\"\n",
        "val_annotation_dir = \"/content/drive/MyDrive/all/val/annotations_transformed\"\n",
        "train_image_dir = \"/content/drive/MyDrive/all/train/images_transformed\"\n",
        "val_image_dir = \"/content/drive/MyDrive/all/val/images_transformed\"\n",
        "\n",
        "train_annotation_output_dir = \"/content/drive/MyDrive/all/train/annotations_transformed2\"\n",
        "val_annotation_output_dir = \"/content/drive/MyDrive/all/val/annotations_transformed2\"\n",
        "train_image_output_dir = \"/content/drive/MyDrive/all/train/images0\"\n",
        "val_image_output_dir = \"/content/drive/MyDrive/all/val/images0\"\n",
        "\n",
        "# Create output directories if they don't exist\n",
        "os.makedirs(train_annotation_output_dir, exist_ok=True)\n",
        "os.makedirs(val_annotation_output_dir, exist_ok=True)\n",
        "os.makedirs(train_image_output_dir, exist_ok=True)\n",
        "os.makedirs(val_image_output_dir, exist_ok=True)\n",
        "\n",
        "def process_annotations(annotation_dir, image_dir, annotation_output_dir, image_output_dir):\n",
        "    \"\"\"\n",
        "    Process XML annotations to remove entries with empty bounding boxes and copy valid ones.\n",
        "    Corresponding images are also copied to the new directory.\n",
        "    \"\"\"\n",
        "    for filename in os.listdir(annotation_dir):\n",
        "        if filename.endswith(\".xml\"):\n",
        "            annotation_path = os.path.join(annotation_dir, filename)\n",
        "            tree = ET.parse(annotation_path)\n",
        "            root = tree.getroot()\n",
        "\n",
        "            # Remove objects with invalid bounding boxes\n",
        "            valid_objects = []\n",
        "            for obj in root.findall(\"object\"):\n",
        "                bndbox = obj.find(\"bndbox\")\n",
        "                xmin = float(bndbox.find(\"xmin\").text)\n",
        "                ymin = float(bndbox.find(\"ymin\").text)\n",
        "                xmax = float(bndbox.find(\"xmax\").text)\n",
        "                ymax = float(bndbox.find(\"ymax\").text)\n",
        "\n",
        "                # Keep the object only if it has a valid bounding box\n",
        "                if xmax > xmin and ymax > ymin:\n",
        "                    valid_objects.append(obj)\n",
        "\n",
        "            # If there are valid objects, save the annotation and copy the corresponding image\n",
        "            if valid_objects:\n",
        "                for obj in root.findall(\"object\"):\n",
        "                    root.remove(obj)  # Remove all objects\n",
        "                for valid_obj in valid_objects:\n",
        "                    root.append(valid_obj)  # Add only valid objects\n",
        "\n",
        "                # Save the modified XML file\n",
        "                output_annotation_path = os.path.join(annotation_output_dir, filename)\n",
        "                tree.write(output_annotation_path)\n",
        "\n",
        "                # Copy the corresponding image\n",
        "                image_filename = filename.replace(\".xml\", \".jpg\")  # Assuming images are .jpg\n",
        "                image_path = os.path.join(image_dir, image_filename)\n",
        "                output_image_path = os.path.join(image_output_dir, image_filename)\n",
        "\n",
        "                if os.path.exists(image_path):\n",
        "                    shutil.copy(image_path, output_image_path)\n",
        "                else:\n",
        "                    print(f\"Image {image_filename} not found for annotation {filename}.\")\n",
        "\n",
        "# Process train and validation annotations\n",
        "process_annotations(train_annotation_dir, train_image_dir, train_annotation_output_dir, train_image_output_dir)\n",
        "process_annotations(val_annotation_dir, val_image_dir, val_annotation_output_dir, val_image_output_dir)\n",
        "\n",
        "print(\"Processing complete. Valid annotations and images have been copied to new directories.\")\n"
      ],
      "metadata": {
        "colab": {
          "base_uri": "https://localhost:8080/"
        },
        "id": "GjEcD03QubYa",
        "outputId": "21bb9b6e-8c0a-474a-e595-d9d8096c99f3"
      },
      "execution_count": null,
      "outputs": [
        {
          "output_type": "stream",
          "name": "stdout",
          "text": [
            "Processing complete. Valid annotations and images have been copied to new directories.\n"
          ]
        }
      ]
    },
    {
      "cell_type": "code",
      "source": [
        "# prompt: count total images in \"/content/drive/MyDrive/all/train/images2\" and \"/content/drive/MyDrive/all/val/images2\", respectively\n",
        "\n",
        "import os\n",
        "\n",
        "# Define the paths to the image directories\n",
        "train_image_dir = \"/content/drive/MyDrive/all/train/images0\"\n",
        "val_image_dir = \"/content/drive/MyDrive/all/val/images0\"\n",
        "\n",
        "# Count the number of images in each directory\n",
        "train_image_count = len([name for name in os.listdir(train_image_dir) if os.path.isfile(os.path.join(train_image_dir, name))])\n",
        "val_image_count = len([name for name in os.listdir(val_image_dir) if os.path.isfile(os.path.join(val_image_dir, name))])\n",
        "\n",
        "# Print the results\n",
        "print(f\"Total images in '{train_image_dir}': {train_image_count}\")\n",
        "print(f\"Total images in '{val_image_dir}': {val_image_count}\")"
      ],
      "metadata": {
        "colab": {
          "base_uri": "https://localhost:8080/"
        },
        "id": "TD7jGJkBuzGn",
        "outputId": "8bdc675f-118a-4206-f8b0-fa3acb8db3fa"
      },
      "execution_count": null,
      "outputs": [
        {
          "output_type": "stream",
          "name": "stdout",
          "text": [
            "Total images in '/content/drive/MyDrive/all/train/images0': 979\n",
            "Total images in '/content/drive/MyDrive/all/val/images0': 189\n"
          ]
        }
      ]
    }
  ]
}