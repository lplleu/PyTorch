{
  "nbformat": 4,
  "nbformat_minor": 0,
  "metadata": {
    "colab": {
      "provenance": []
    },
    "kernelspec": {
      "name": "python3",
      "display_name": "Python 3"
    },
    "language_info": {
      "name": "python"
    }
  },
  "cells": [
    {
      "cell_type": "code",
      "execution_count": 1,
      "metadata": {
        "colab": {
          "base_uri": "https://localhost:8080/"
        },
        "id": "JH1pderOsoki",
        "outputId": "fc6c6b78-8d22-4457-948a-e1db0ac92080"
      },
      "outputs": [
        {
          "output_type": "stream",
          "name": "stdout",
          "text": [
            "Mounted at /content/drive\n"
          ]
        }
      ],
      "source": [
        "from google.colab import drive\n",
        "drive.mount('/content/drive')\n"
      ]
    },
    {
      "cell_type": "code",
      "source": [
        "import torch\n",
        "\n",
        "# Check if CUDA is available\n",
        "if torch.cuda.is_available():\n",
        "    print(\"CUDA is available!\")\n",
        "    print(\"Number of GPUs:\", torch.cuda.device_count())\n",
        "    print(\"Current GPU:\", torch.cuda.current_device())\n",
        "    print(\"GPU Name:\", torch.cuda.get_device_name(torch.cuda.current_device()))\n",
        "else:\n",
        "    print(\"CUDA is not available.\")\n"
      ],
      "metadata": {
        "colab": {
          "base_uri": "https://localhost:8080/"
        },
        "id": "jrJOKplOsu60",
        "outputId": "68f3b059-c456-47ac-8aa6-b500afa36256"
      },
      "execution_count": 2,
      "outputs": [
        {
          "output_type": "stream",
          "name": "stdout",
          "text": [
            "CUDA is not available.\n"
          ]
        }
      ]
    },
    {
      "cell_type": "code",
      "source": [
        "import os\n",
        "import xml.etree.ElementTree as ET\n",
        "from PIL import Image\n",
        "\n",
        "# Paths to the directories\n",
        "annotations_dir = \"/content/drive/MyDrive/all/train/annotations_transformed2\"\n",
        "images_dir = \"/content/drive/MyDrive/all/train/images_transformed\"\n",
        "\n",
        "# Get lists of files\n",
        "annotation_files = [f for f in os.listdir(annotations_dir) if f.endswith('.xml')]\n",
        "image_files = [f for f in os.listdir(images_dir) if f.endswith('.jpg')]\n",
        "\n",
        "# Extract image names without extensions\n",
        "image_names = {os.path.splitext(f)[0]: f for f in image_files}\n",
        "\n",
        "# Initialize lists for invalid files\n",
        "missing_images = []\n",
        "invalid_annotations = []\n",
        "small_boxes = []\n",
        "out_of_bounds_boxes = []\n",
        "\n",
        "# Minimum bounding box size (width, height)\n",
        "MIN_BOX_SIZE = 10\n",
        "\n",
        "# Validate each annotation file\n",
        "for annotation_file in annotation_files:\n",
        "    annotation_path = os.path.join(annotations_dir, annotation_file)\n",
        "\n",
        "    # Check if corresponding image exists\n",
        "    image_name = os.path.splitext(annotation_file)[0]\n",
        "    if image_name not in image_names:\n",
        "        missing_images.append(annotation_file)\n",
        "        continue\n",
        "\n",
        "    image_path = os.path.join(images_dir, image_names[image_name])\n",
        "\n",
        "    # Check if the XML file is valid\n",
        "    try:\n",
        "        tree = ET.parse(annotation_path)\n",
        "        root = tree.getroot()\n",
        "\n",
        "        # Load the corresponding image to get dimensions\n",
        "        with Image.open(image_path) as img:\n",
        "            img_width, img_height = img.size\n",
        "\n",
        "        # Check bounding boxes\n",
        "        for obj in root.findall(\"object\"):\n",
        "            bndbox = obj.find(\"bndbox\")\n",
        "            if bndbox is not None:\n",
        "                xmin = int(bndbox.find(\"xmin\").text)\n",
        "                ymin = int(bndbox.find(\"ymin\").text)\n",
        "                xmax = int(bndbox.find(\"xmax\").text)\n",
        "                ymax = int(bndbox.find(\"ymax\").text)\n",
        "\n",
        "                # Check if box is too small\n",
        "                if (xmax - xmin) < MIN_BOX_SIZE or (ymax - ymin) < MIN_BOX_SIZE:\n",
        "                    small_boxes.append(annotation_file)\n",
        "                    continue\n",
        "\n",
        "                # Check if box falls outside image boundaries\n",
        "                if xmin < 0 or ymin < 0 or xmax > img_width or ymax > img_height:\n",
        "                    out_of_bounds_boxes.append(annotation_file)\n",
        "                    continue\n",
        "\n",
        "    except ET.ParseError:\n",
        "        invalid_annotations.append(annotation_file)\n",
        "\n",
        "# Print results\n",
        "if missing_images:\n",
        "    print(f\"Annotations missing corresponding images ({len(missing_images)}):\")\n",
        "    print(\"\\n\".join(missing_images))\n",
        "else:\n",
        "    print(\"All annotations have corresponding images.\")\n",
        "\n",
        "if invalid_annotations:\n",
        "    print(f\"Invalid annotation files ({len(invalid_annotations)}):\")\n",
        "    print(\"\\n\".join(invalid_annotations))\n",
        "else:\n",
        "    print(\"All annotations are valid.\")\n",
        "\n",
        "if small_boxes:\n",
        "    print(f\"Annotations with bounding boxes that are too small ({len(small_boxes)}):\")\n",
        "    print(\"\\n\".join(small_boxes))\n",
        "else:\n",
        "    print(\"No small bounding boxes found.\")\n",
        "\n",
        "if out_of_bounds_boxes:\n",
        "    print(f\"Annotations with bounding boxes outside image boundaries ({len(out_of_bounds_boxes)}):\")\n",
        "    print(\"\\n\".join(out_of_bounds_boxes))\n",
        "else:\n",
        "    print(\"No out-of-bounds bounding boxes found.\")\n"
      ],
      "metadata": {
        "id": "Vfg6D0bHs0Tz"
      },
      "execution_count": 3,
      "outputs": []
    }
  ]
}